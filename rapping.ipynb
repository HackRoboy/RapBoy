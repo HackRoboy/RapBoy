{
 "cells": [
  {
   "cell_type": "code",
   "execution_count": 2,
   "metadata": {},
   "outputs": [],
   "source": [
    "from tts import TTS, Voice\n",
    "from postprocessing import AudioProcessing\n",
    "import os"
   ]
  },
  {
   "cell_type": "code",
   "execution_count": 15,
   "metadata": {},
   "outputs": [
    {
     "data": {
      "text/plain": [
       "0"
      ]
     },
     "execution_count": 15,
     "metadata": {},
     "output_type": "execute_result"
    }
   ],
   "source": [
    "text = \"Hello world. I am Roboy.\"\n",
    "tts = TTS(Voice(Voice.Language.enUS, Voice.Sex.male, \"Justin\"))\n",
    "ap = AudioProcessing(tts.speak(text))\n",
    "name = \"hello.wav\"\n",
    "ap.modify(0.1, -1, 1, mid_part=0.05, mid_pitch=2, mid_stretch=1, name=name, accel=1.2)\n",
    "os.system('mpv' + ' ' + name)"
   ]
  },
  {
   "cell_type": "code",
   "execution_count": null,
   "metadata": {},
   "outputs": [],
   "source": []
  }
 ],
 "metadata": {
  "kernelspec": {
   "display_name": "Python 3",
   "language": "python",
   "name": "python3"
  },
  "language_info": {
   "codemirror_mode": {
    "name": "ipython",
    "version": 3
   },
   "file_extension": ".py",
   "mimetype": "text/x-python",
   "name": "python",
   "nbconvert_exporter": "python",
   "pygments_lexer": "ipython3",
   "version": "3.6.8"
  }
 },
 "nbformat": 4,
 "nbformat_minor": 2
}
